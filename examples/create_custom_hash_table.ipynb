{
 "cells": [
  {
   "cell_type": "markdown",
   "metadata": {},
   "source": [
    "# Customize Hash Table.\n",
    "\n",
    "This tutorial shows how to customize your own hash table in case there are proteins that are not included in our default hash table."
   ]
  },
  {
   "cell_type": "code",
   "execution_count": 1,
   "metadata": {},
   "outputs": [],
   "source": [
    "import pickle\n",
    "from ace.table import create\n"
   ]
  },
  {
   "cell_type": "code",
   "execution_count": 2,
   "metadata": {},
   "outputs": [
    {
     "name": "stdout",
     "output_type": "stream",
     "text": [
      ">sp|P02690|MYP2_BOVIN Myelin P2 protein OS=Bos taurus OX=9913 GN=PMP2 PE=1 SV=2\r\n",
      "MSNKFLGTWKLVSSENFDEYMKALGVGLATRKLGNLAKPRVIISKKGDIITIRTESPFKN\r\n",
      "TEISFKLGQEFEETTADNRKTKSTVTLARGSLNQVQKWDGNETTIKRKLVDGKMVVECKM\r\n",
      "KDVVCTRIYEKV\r\n",
      ">sp|Q2M2U4|RNH2C_BOVIN Ribonuclease H2 subunit C OS=Bos taurus OX=9913 GN=RNASEH2C PE=2 SV=1\r\n",
      "MENSYEETIDKRRVHLRPDTLRDPAPASLHLLPCEVPVNRPTPVGRFFTPAIRMGRDGLE\r\n",
      "ASFRGRSLRGEEVVVPPGFVGYVVTEEKAEVLMGKQDDHERQEQELLEPPEALERDCDRF\r\n",
      "MGATASFSSFTVWGLESIPGPDAKLRGALSWPSLAAAIHAQVPED\r\n",
      ">sp|A4IF62|RPC1_BOVIN DNA-directed RNA polymerase III subunit RPC1 OS=Bos taurus OX=9913 GN=POLR3A PE=2 SV=1\r\n",
      "MVKEQFRETDVAKKISHICFGMKSAEEMRQQAHIQVVSKNLYSQDNNHSPLLYGVLDHRM\r\n",
      "GTSEKDRPCETCGKNLADCLGHYGYIDLELPCFHVGYFRAVIGILQMICKTCCHIMLSQE\r\n",
      "EKKQFLDYLKRPGLTYLQKRGLKKKISDKCRKKNTCHHCGAFNGTVKKCGLLKIIHEKYK\r\n",
      "TNKKVVDPIVSSFLQSFETAIEHNKEVEPLLGKAQENLNPLVVLNLFKRIPAEDIPLLLM\r\n",
      "NPEAGKPSDLILTRLLVPPLCIRPSVVSDLKSGTNEDDLTMKLTEIIFLNDVIKKHRISG\r\n",
      "AKTQMIMEDWDFLQLQCALYINSELSGIPLNMAPKKWTRGFVQRLKGKQGRFRGNLSGKR\r\n",
      "VDFSGRTVISPDPNLRIDEVAVPVHVAKILTFPEKVNKANINFLRKLVRNGPEVHPGANF\r\n",
      "IQQRHTQMKRFLKYGNREKMAQELKFGDIVERHLIDGDVVLFNRQPSLHKLSIMAHLARV\r\n",
      "KPHRTFRFNECVCTPYNADFDGDEMNLHLPQTEEAKAEALVLMGTKANLVTPRNGEPLIA\r\n",
      "AIQDFLTGAYLLTLKDTFFDRAKACQIIASILVGKDEKIKVRLPPPTILKPVTLWTGKQI\r\n",
      "FSVILRPSDDNPVRANLRTKGKQYCGRGEDLCVNDSYVTIQNSELMSGSMDKGTLGSGSK\r\n",
      "NNIFYILLRDWGQNEAADAMSRLARLAPVYLSNRGFSIGIGDVTPGQGLLKAKYELLNAG\r\n",
      "YKKCDEYIEALNTGKLQQQPGCTAEETLEALILKELSVIRDHAGSACLRELDKSNSPLTM\r\n",
      "ALCGSKGSFINISQMIACVGQQAISGSRVPDGFENRSLPHFEKHSKLPAAKGFVANSFYS\r\n",
      "GLTPTEFFFHTMAGREGLVDTAVKTAETGYMQRRLVKSLEDLCSQYDLTVRSSTGDIIQF\r\n",
      "IYGGDGLDPAAMEGKDEPLEFKRVLDNIKAVFPCRSEPALSKNELLLSAESIMKKNEFLC\r\n",
      "CQDSFLQEIKKFIKEVSEKIKKTRDKYGINDNGTTEPRVLYQLDRITPTQIEKFLETCRD\r\n",
      "KYMRAQMEPGSAVGALCAQSIGEPGTQMTLKTFHFAGVASMNITLGVPRIKEIINASKAI\r\n",
      "STPIITAQLDKDDDADYARLVKGRIEKTLLGEISEYIEEVFLPDDCFILVKLSLERIRLL\r\n",
      "RLEVNAETVRYSICMSKLRVKPGDVAVHGEAVVCVTPRENSKSSMYYVLQFLKEDLPKVV\r\n",
      "VQGIPEVSRAVIHIDEQSGKEKYKLLVEGDNLRAVMATHGVKGTRTTSNNTYEVEKTLGI\r\n",
      "EAARTTIINEIQYTMVNHGMSIDRRHVMLLSDLMTYKGEVLGITRFGLAKMKESVLMLAS\r\n",
      "FEKTADHLFDAAYFGQKDSVCGVSECIIMGIPMNIGTGLFKLLHKANRDPSPPRRPLIFD\r\n",
      "TNEFHIPLVT\r\n",
      "\n"
     ]
    }
   ],
   "source": [
    "# Step 1. Prepare an aggregated FASTA file. Here is an example how your FASTA\n",
    "#   should be like:\n",
    "\n",
    "with open('fasta_example.txt', 'rb') as f:\n",
    "    text = f.read().decode('utf-16')\n",
    "print(text)"
   ]
  },
  {
   "cell_type": "code",
   "execution_count": 3,
   "metadata": {},
   "outputs": [
    {
     "name": "stdout",
     "output_type": "stream",
     "text": [
      "{'sp|P02690|MYP2_BOVIN Myelin P2 protein OS=Bos taurus OX=9913 GN=PMP2 PE=1 SV=2': {'A': 5, 'B': 0, 'C': 2, 'D': 6, 'E': 10, 'F': 5, 'G': 9, 'H': 0, 'I': 8, 'K': 18, 'L': 10, 'M': 4, 'N': 7, 'P': 2, 'Q': 3, 'R': 7, 'S': 8, 'T': 13, 'U': 0, 'V': 11, 'W': 2, 'X': 0, 'Y': 2, 'Z': 0}, 'sp|Q2M2U4|RNH2C_BOVIN Ribonuclease H2 subunit C OS=Bos taurus OX=9913 GN=RNASEH2C PE=2 SV=1': {'A': 14, 'B': 0, 'C': 2, 'D': 10, 'E': 18, 'F': 7, 'G': 12, 'H': 4, 'I': 4, 'K': 4, 'L': 15, 'M': 4, 'N': 2, 'P': 16, 'Q': 4, 'R': 15, 'S': 10, 'T': 7, 'U': 0, 'V': 13, 'W': 2, 'X': 0, 'Y': 2, 'Z': 0}}\n"
     ]
    }
   ],
   "source": [
    "# Step 2. Specify your input FASTA file path and the output hash table binary\n",
    "#   file path. For this example, we will use the above dummy FASTA file.\n",
    "\n",
    "create(\n",
    "    path_fasta='fasta_example.txt',\n",
    "    path_ht='ht_example.pickle')\n",
    "ht = pickle.load(open('ht_example.pickle', 'rb'))\n",
    "print(ht)\n"
   ]
  },
  {
   "cell_type": "code",
   "execution_count": null,
   "metadata": {},
   "outputs": [],
   "source": []
  }
 ],
 "metadata": {
  "kernelspec": {
   "display_name": "Python 3",
   "language": "python",
   "name": "python3"
  },
  "language_info": {
   "codemirror_mode": {
    "name": "ipython",
    "version": 3
   },
   "file_extension": ".py",
   "mimetype": "text/x-python",
   "name": "python",
   "nbconvert_exporter": "python",
   "pygments_lexer": "ipython3",
   "version": "3.8.5"
  }
 },
 "nbformat": 4,
 "nbformat_minor": 2
}
