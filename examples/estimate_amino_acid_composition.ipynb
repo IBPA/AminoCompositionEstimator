{
 "cells": [
  {
   "cell_type": "markdown",
   "metadata": {},
   "source": [
    "# Estimate Amino Acid Composition\n",
    "\n",
    "This tutorial will give help you go over the general usage of ACE."
   ]
  },
  {
   "cell_type": "code",
   "execution_count": 3,
   "metadata": {},
   "outputs": [],
   "source": [
    "import pandas as pd\n",
    "from ace import Estimator\n"
   ]
  },
  {
   "cell_type": "code",
   "execution_count": 9,
   "metadata": {},
   "outputs": [
    {
     "name": "stdout",
     "output_type": "stream",
     "text": [
      "Protein      sp|A0JNC0|TMOD1_BOVIN Tropomodulin-1 OS=Bos ta...\n",
      "Sequence                                         EGLNSVIKPTQYK\n",
      "19.raw                                                5.42e+11\n",
      "20.raw                                                     NaN\n",
      "21.raw                                                     NaN\n",
      "B96_1.raw                                                  NaN\n",
      "B96_2.raw                                                  NaN\n",
      "B96_3.raw                                                  NaN\n",
      "Name: 1, dtype: object\n",
      "Columns: ['Protein', 'Sequence', '19.raw', '20.raw', '21.raw', 'B96_1.raw', 'B96_2.raw', 'B96_3.raw']\n"
     ]
    }
   ],
   "source": [
    "# Step 1. Format your proteomics data following the template below.The first\n",
    "#   column is the protein name in FASTA format, the second column is the\n",
    "#   corresponding peptide sequence. The rest of the columns are arbitrary\n",
    "#   amount of food sample replicate names, and the values are the quantitative\n",
    "#   abundances. See more details by opening `meat_proteomics.csv`.\n",
    "\n",
    "data = pd.read_csv('proteomics_example.csv')\n",
    "print(data.iloc[1])\n",
    "print(\"Columns:\", data.columns.tolist())"
   ]
  },
  {
   "cell_type": "code",
   "execution_count": 11,
   "metadata": {},
   "outputs": [
    {
     "name": "stdout",
     "output_type": "stream",
     "text": [
      "     19.raw    20.raw    21.raw  B96_1.raw  B96_2.raw  B96_3.raw\n",
      "A  0.088549  0.089449  0.088617   0.088188   0.089322   0.088964\n",
      "B  0.000000  0.000000  0.000000   0.000000   0.000000   0.000000\n",
      "C  0.012975  0.012861  0.012886   0.013905   0.013670   0.013614\n",
      "D  0.058136  0.057692  0.058035   0.056830   0.057262   0.057459\n",
      "E  0.093800  0.092193  0.093204   0.093645   0.094100   0.093912\n",
      "F  0.034486  0.035496  0.035384   0.035760   0.035326   0.035929\n",
      "G  0.066752  0.068216  0.067461   0.067719   0.066020   0.066093\n",
      "H  0.025982  0.026718  0.026071   0.024536   0.025034   0.024634\n",
      "I  0.056462  0.056024  0.056468   0.052740   0.053711   0.053300\n",
      "K  0.084501  0.083720  0.084531   0.086503   0.087159   0.086688\n",
      "L  0.084223  0.084740  0.083765   0.086283   0.086615   0.086092\n",
      "M  0.029824  0.030643  0.029914   0.027756   0.028306   0.028237\n",
      "N  0.036324  0.036537  0.036602   0.038238   0.038088   0.038192\n",
      "P  0.042442  0.041991  0.042946   0.042682   0.040516   0.041253\n",
      "Q  0.037924  0.038697  0.037901   0.040317   0.039913   0.040262\n",
      "R  0.045354  0.045024  0.044860   0.046868   0.046033   0.046459\n",
      "S  0.053214  0.053146  0.052757   0.052851   0.052842   0.052914\n",
      "T  0.052679  0.052158  0.052598   0.050206   0.050328   0.050490\n",
      "U  0.000000  0.000000  0.000000   0.000000   0.000000   0.000000\n",
      "V  0.059419  0.058457  0.059636   0.060987   0.061467   0.061092\n",
      "W  0.009338  0.008972  0.009250   0.008785   0.008856   0.008863\n",
      "X  0.000000  0.000000  0.000000   0.000000   0.000000   0.000000\n",
      "Y  0.027615  0.027263  0.027115   0.025203   0.025431   0.025554\n",
      "Z  0.000000  0.000000  0.000000   0.000000   0.000000   0.000000\n"
     ]
    }
   ],
   "source": [
    "# Step 2. Estimate the amino acid composition.\n",
    "\n",
    "estimator = Estimator(\n",
    "    remove_zeroes=True,      # If true, impute zeroes.\n",
    "    remove_duplicates=True,  # If true, remove duplicates.\n",
    "    merge_substr=True,       # If true, merge substring sequences.\n",
    "    filters=['CRAP'])        # If specified, remove proteins with the patterns.\n",
    "\n",
    "amino_acid_composition, pqi = estimator.estimate(data)\n",
    "print(amino_acid_composition)\n"
   ]
  },
  {
   "cell_type": "code",
   "execution_count": 12,
   "metadata": {},
   "outputs": [
    {
     "name": "stdout",
     "output_type": "stream",
     "text": [
      "                                                         19.raw       20.raw  \\\n",
      "sp|A0JNC0|TMOD1_BOVIN Tropomodulin-1 OS=Bos tau...  1.81623e+11     8.69e+08   \n",
      "sp|A0JNJ5|MYL1_BOVIN Myosin light chain 1/3, sk...  2.50129e+12   2.3926e+12   \n",
      "sp|A2I7M9|SPA32_BOVIN Serpin A3-2 OS=Bos taurus...     1.22e+08     2.84e+09   \n",
      "sp|A2I7N1|SPA35_BOVIN Serpin A3-5 OS=Bos taurus...     2.52e+09   4.6197e+09   \n",
      "sp|A2I7N3|SPA37_BOVIN Serpin A3-7 OS=Bos taurus...          NaN      5.3e+09   \n",
      "...                                                         ...          ...   \n",
      "tr|Q29RI2|Q29RI2_BOVIN Phosphorylase kinase cat...     4.75e+09  8.20667e+09   \n",
      "tr|Q94DL4|Q94DL4_ORYSJ Os01g0964133 protein OS=...     2.46e+11     4.56e+11   \n",
      "tr|Q148C2|Q148C2_BOVIN Troponin C type 2 (Fast)...  5.18667e+10  5.43667e+10   \n",
      "tr|Q148D3|Q148D3_BOVIN Fumarate hydratase OS=Bo...  6.87333e+09  9.65333e+09   \n",
      "tr|Q148H2|Q148H2_BOVIN Myosin light chain 6B OS...  3.48067e+11  3.19033e+11   \n",
      "\n",
      "                                                         21.raw    B96_1.raw  \\\n",
      "sp|A0JNC0|TMOD1_BOVIN Tropomodulin-1 OS=Bos tau...   1.0275e+09          NaN   \n",
      "sp|A0JNJ5|MYL1_BOVIN Myosin light chain 1/3, sk...  3.15715e+12  7.39517e+11   \n",
      "sp|A2I7M9|SPA32_BOVIN Serpin A3-2 OS=Bos taurus...          NaN          NaN   \n",
      "sp|A2I7N1|SPA35_BOVIN Serpin A3-5 OS=Bos taurus...          NaN    1.342e+09   \n",
      "sp|A2I7N3|SPA37_BOVIN Serpin A3-7 OS=Bos taurus...     7.35e+09          NaN   \n",
      "...                                                         ...          ...   \n",
      "tr|Q29RI2|Q29RI2_BOVIN Phosphorylase kinase cat...  2.67333e+09     4.89e+08   \n",
      "tr|Q94DL4|Q94DL4_ORYSJ Os01g0964133 protein OS=...     8.14e+11          NaN   \n",
      "tr|Q148C2|Q148C2_BOVIN Troponin C type 2 (Fast)...     6.78e+10    3.263e+10   \n",
      "tr|Q148D3|Q148D3_BOVIN Fumarate hydratase OS=Bo...    1.829e+10     9.07e+09   \n",
      "tr|Q148H2|Q148H2_BOVIN Myosin light chain 6B OS...  4.01533e+11  2.50327e+11   \n",
      "\n",
      "                                                      B96_2.raw    B96_3.raw  \n",
      "sp|A0JNC0|TMOD1_BOVIN Tropomodulin-1 OS=Bos tau...          NaN          NaN  \n",
      "sp|A0JNJ5|MYL1_BOVIN Myosin light chain 1/3, sk...   6.6181e+11  6.99673e+11  \n",
      "sp|A2I7M9|SPA32_BOVIN Serpin A3-2 OS=Bos taurus...          NaN          NaN  \n",
      "sp|A2I7N1|SPA35_BOVIN Serpin A3-5 OS=Bos taurus...  3.97574e+09          NaN  \n",
      "sp|A2I7N3|SPA37_BOVIN Serpin A3-7 OS=Bos taurus...          NaN     4.16e+09  \n",
      "...                                                         ...          ...  \n",
      "tr|Q29RI2|Q29RI2_BOVIN Phosphorylase kinase cat...  1.60867e+09     3.84e+08  \n",
      "tr|Q94DL4|Q94DL4_ORYSJ Os01g0964133 protein OS=...          NaN          NaN  \n",
      "tr|Q148C2|Q148C2_BOVIN Troponin C type 2 (Fast)...  3.88667e+10  5.50667e+10  \n",
      "tr|Q148D3|Q148D3_BOVIN Fumarate hydratase OS=Bo...      7.6e+09    7.408e+09  \n",
      "tr|Q148H2|Q148H2_BOVIN Myosin light chain 6B OS...  1.03803e+11  9.90067e+10  \n",
      "\n",
      "[522 rows x 6 columns]\n"
     ]
    }
   ],
   "source": [
    "# Protein quantitation index (PQI).\n",
    "print(pqi)\n"
   ]
  },
  {
   "cell_type": "code",
   "execution_count": null,
   "metadata": {},
   "outputs": [],
   "source": []
  }
 ],
 "metadata": {
  "kernelspec": {
   "display_name": "Python 3",
   "language": "python",
   "name": "python3"
  },
  "language_info": {
   "codemirror_mode": {
    "name": "ipython",
    "version": 3
   },
   "file_extension": ".py",
   "mimetype": "text/x-python",
   "name": "python",
   "nbconvert_exporter": "python",
   "pygments_lexer": "ipython3",
   "version": "3.8.5"
  }
 },
 "nbformat": 4,
 "nbformat_minor": 4
}
